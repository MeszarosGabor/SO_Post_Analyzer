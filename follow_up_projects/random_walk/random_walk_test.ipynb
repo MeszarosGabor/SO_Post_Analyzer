{
 "cells": [
  {
   "cell_type": "code",
   "execution_count": 1,
   "id": "85a23c9e-e567-4b85-970e-a6ce9f38024b",
   "metadata": {},
   "outputs": [],
   "source": [
    "import math\n",
    "import time\n",
    "\n",
    "import networkx as nx\n",
    "import random_walk as rw"
   ]
  },
  {
   "cell_type": "code",
   "execution_count": 2,
   "id": "b05408b2-f82e-4b80-be0f-596bdf9e08f3",
   "metadata": {},
   "outputs": [
    {
     "name": "stderr",
     "output_type": "stream",
     "text": [
      "100%|████████████████████████████████████████████████████████████████████████████████████████████████████████████████████████████████████████████████████████████████████████████| 10/10 [00:00<00:00, 21066.32it/s]"
     ]
    },
    {
     "name": "stdout",
     "output_type": "stream",
     "text": [
      "Random Walk: [0, 3, 2, 1, 2, 1, 2, 1, 2, 3, 2]\n",
      "Edge (0, 1) has weight 1\n",
      "Edge (0, 3) has weight 2\n",
      "Edge (0, 2) has weight 1\n",
      "Edge (1, 2) has weight 7\n",
      "Edge (2, 3) has weight 4\n"
     ]
    },
    {
     "name": "stderr",
     "output_type": "stream",
     "text": [
      "\n"
     ]
    }
   ],
   "source": [
    "# Example usage\n",
    "edges = [(0, 1), (1, 2), (2, 3), (3, 0), (0, 2)]\n",
    "G = rw.create_graph(edges)\n",
    "start_node = 0\n",
    "steps = 10\n",
    "x = 1\n",
    "\n",
    "walk = rw.random_walk(G, start_node, steps, x)\n",
    "print(\"Random Walk:\", walk)\n",
    "\n",
    "# Display the updated graph with edge weights\n",
    "for u, v, weight in G.edges(data='weight'):\n",
    "    print(f\"Edge ({u}, {v}) has weight {weight}\")"
   ]
  },
  {
   "cell_type": "code",
   "execution_count": 2,
   "id": "37e0191a-a5a5-426a-ba37-7a4fab403265",
   "metadata": {},
   "outputs": [
    {
     "name": "stdout",
     "output_type": "stream",
     "text": [
      "Setup...\n",
      "...Done. Took 0.0 seconds. Starting Rounds...\n",
      "...Done. Took 0.0 seconds.\n"
     ]
    },
    {
     "data": {
      "text/plain": [
       "{'walk': [1, 2, 3, 2, 3, 2, 1, 2, 3, 2, 1]}"
      ]
     },
     "execution_count": 2,
     "metadata": {},
     "output_type": "execute_result"
    }
   ],
   "source": [
    "neighbors = {1: [2], 2: [1,3], 3: [2]}\n",
    "rw.random_walk_edge_reinforcement(neighbors, 10, 1, 1)"
   ]
  },
  {
   "cell_type": "code",
   "execution_count": 3,
   "id": "412e7124-26e2-4d61-ac30-fd980d0f137c",
   "metadata": {},
   "outputs": [
    {
     "ename": "KeyboardInterrupt",
     "evalue": "",
     "output_type": "error",
     "traceback": [
      "\u001b[0;31m---------------------------------------------------------------------------\u001b[0m",
      "\u001b[0;31mKeyboardInterrupt\u001b[0m                         Traceback (most recent call last)",
      "Cell \u001b[0;32mIn[3], line 3\u001b[0m\n\u001b[1;32m      1\u001b[0m n \u001b[38;5;241m=\u001b[39m \u001b[38;5;241m100_000\u001b[39m\n\u001b[1;32m      2\u001b[0m p \u001b[38;5;241m=\u001b[39m math\u001b[38;5;241m.\u001b[39mlog(n) \u001b[38;5;241m*\u001b[39m \u001b[38;5;241m2\u001b[39m \u001b[38;5;241m/\u001b[39m n \n\u001b[0;32m----> 3\u001b[0m G \u001b[38;5;241m=\u001b[39m \u001b[43mnx\u001b[49m\u001b[38;5;241;43m.\u001b[39;49m\u001b[43merdos_renyi_graph\u001b[49m\u001b[43m(\u001b[49m\u001b[43mn\u001b[49m\u001b[43m,\u001b[49m\u001b[43m \u001b[49m\u001b[43mp\u001b[49m\u001b[43m)\u001b[49m\n\u001b[1;32m      4\u001b[0m neighbors \u001b[38;5;241m=\u001b[39m rw\u001b[38;5;241m.\u001b[39mconvert_nx_graph_to_primitive_neighbors_dict(G)\n\u001b[1;32m      6\u001b[0m walk \u001b[38;5;241m=\u001b[39m rw\u001b[38;5;241m.\u001b[39mrandom_walk_edge_reinforcement(\n\u001b[1;32m      7\u001b[0m     neighbors,\n\u001b[1;32m      8\u001b[0m     rounds\u001b[38;5;241m=\u001b[39m\u001b[38;5;241m1\u001b[39m, start_index\u001b[38;5;241m=\u001b[39m\u001b[38;5;241m0\u001b[39m, initial_weights\u001b[38;5;241m=\u001b[39m\u001b[38;5;241m1\u001b[39m, reinforcement_weight\u001b[38;5;241m=\u001b[39m\u001b[38;5;241m1\u001b[39m, return_neighbors\u001b[38;5;241m=\u001b[39m\u001b[38;5;28;01mFalse\u001b[39;00m)\n",
      "File \u001b[0;32m~/.local/lib/python3.9/site-packages/networkx/utils/decorators.py:770\u001b[0m, in \u001b[0;36margmap.__call__.<locals>.func\u001b[0;34m(_argmap__wrapper, *args, **kwargs)\u001b[0m\n\u001b[1;32m    769\u001b[0m \u001b[38;5;28;01mdef\u001b[39;00m \u001b[38;5;21mfunc\u001b[39m(\u001b[38;5;241m*\u001b[39margs, __wrapper\u001b[38;5;241m=\u001b[39m\u001b[38;5;28;01mNone\u001b[39;00m, \u001b[38;5;241m*\u001b[39m\u001b[38;5;241m*\u001b[39mkwargs):\n\u001b[0;32m--> 770\u001b[0m     \u001b[38;5;28;01mreturn\u001b[39;00m \u001b[43margmap\u001b[49m\u001b[38;5;241;43m.\u001b[39;49m\u001b[43m_lazy_compile\u001b[49m\u001b[43m(\u001b[49m\u001b[43m__wrapper\u001b[49m\u001b[43m)\u001b[49m\u001b[43m(\u001b[49m\u001b[38;5;241;43m*\u001b[39;49m\u001b[43margs\u001b[49m\u001b[43m,\u001b[49m\u001b[43m \u001b[49m\u001b[38;5;241;43m*\u001b[39;49m\u001b[38;5;241;43m*\u001b[39;49m\u001b[43mkwargs\u001b[49m\u001b[43m)\u001b[49m\n",
      "File \u001b[0;32m<class 'networkx.utils.decorators.argmap'> compilation 4:4\u001b[0m, in \u001b[0;36margmap_gnp_random_graph_1\u001b[0;34m(n, p, seed, directed, backend, **backend_kwargs)\u001b[0m\n\u001b[1;32m      2\u001b[0m \u001b[38;5;28;01mimport\u001b[39;00m \u001b[38;5;21;01mcollections\u001b[39;00m\n\u001b[1;32m      3\u001b[0m \u001b[38;5;28;01mimport\u001b[39;00m \u001b[38;5;21;01mgzip\u001b[39;00m\n\u001b[0;32m----> 4\u001b[0m \u001b[38;5;28;01mimport\u001b[39;00m \u001b[38;5;21;01minspect\u001b[39;00m\n\u001b[1;32m      5\u001b[0m \u001b[38;5;28;01mimport\u001b[39;00m \u001b[38;5;21;01mitertools\u001b[39;00m\n\u001b[1;32m      6\u001b[0m \u001b[38;5;28;01mimport\u001b[39;00m \u001b[38;5;21;01mre\u001b[39;00m\n",
      "File \u001b[0;32m~/.local/lib/python3.9/site-packages/networkx/utils/backends.py:412\u001b[0m, in \u001b[0;36m_dispatch.__call__\u001b[0;34m(self, backend, *args, **kwargs)\u001b[0m\n\u001b[1;32m    409\u001b[0m \u001b[38;5;28;01mdef\u001b[39;00m \u001b[38;5;21m__call__\u001b[39m(\u001b[38;5;28mself\u001b[39m, \u001b[38;5;241m/\u001b[39m, \u001b[38;5;241m*\u001b[39margs, backend\u001b[38;5;241m=\u001b[39m\u001b[38;5;28;01mNone\u001b[39;00m, \u001b[38;5;241m*\u001b[39m\u001b[38;5;241m*\u001b[39mkwargs):\n\u001b[1;32m    410\u001b[0m     \u001b[38;5;28;01mif\u001b[39;00m \u001b[38;5;129;01mnot\u001b[39;00m backends:\n\u001b[1;32m    411\u001b[0m         \u001b[38;5;66;03m# Fast path if no backends are installed\u001b[39;00m\n\u001b[0;32m--> 412\u001b[0m         \u001b[38;5;28;01mreturn\u001b[39;00m \u001b[38;5;28;43mself\u001b[39;49m\u001b[38;5;241;43m.\u001b[39;49m\u001b[43morig_func\u001b[49m\u001b[43m(\u001b[49m\u001b[38;5;241;43m*\u001b[39;49m\u001b[43margs\u001b[49m\u001b[43m,\u001b[49m\u001b[43m \u001b[49m\u001b[38;5;241;43m*\u001b[39;49m\u001b[38;5;241;43m*\u001b[39;49m\u001b[43mkwargs\u001b[49m\u001b[43m)\u001b[49m\n\u001b[1;32m    414\u001b[0m     \u001b[38;5;66;03m# Use `backend_name` in this function instead of `backend`\u001b[39;00m\n\u001b[1;32m    415\u001b[0m     backend_name \u001b[38;5;241m=\u001b[39m backend\n",
      "File \u001b[0;32m~/.local/lib/python3.9/site-packages/networkx/generators/random_graphs.py:166\u001b[0m, in \u001b[0;36mgnp_random_graph\u001b[0;34m(n, p, seed, directed)\u001b[0m\n\u001b[1;32m    163\u001b[0m     \u001b[38;5;28;01mreturn\u001b[39;00m complete_graph(n, create_using\u001b[38;5;241m=\u001b[39mG)\n\u001b[1;32m    165\u001b[0m \u001b[38;5;28;01mfor\u001b[39;00m e \u001b[38;5;129;01min\u001b[39;00m edges:\n\u001b[0;32m--> 166\u001b[0m     \u001b[38;5;28;01mif\u001b[39;00m \u001b[43mseed\u001b[49m\u001b[38;5;241;43m.\u001b[39;49m\u001b[43mrandom\u001b[49m\u001b[43m(\u001b[49m\u001b[43m)\u001b[49m \u001b[38;5;241m<\u001b[39m p:\n\u001b[1;32m    167\u001b[0m         G\u001b[38;5;241m.\u001b[39madd_edge(\u001b[38;5;241m*\u001b[39me)\n\u001b[1;32m    168\u001b[0m \u001b[38;5;28;01mreturn\u001b[39;00m G\n",
      "\u001b[0;31mKeyboardInterrupt\u001b[0m: "
     ]
    }
   ],
   "source": [
    "n = 100_000\n",
    "p = math.log(n) * 2 / n \n",
    "G = nx.erdos_renyi_graph(n, p)\n",
    "neighbors = rw.convert_nx_graph_to_primitive_neighbors_dict(G)\n",
    "\n",
    "walk = rw.random_walk_edge_reinforcement(\n",
    "    neighbors,\n",
    "    rounds=1, start_index=0, initial_weights=1, reinforcement_weight=1, return_neighbors=False)"
   ]
  },
  {
   "cell_type": "code",
   "execution_count": null,
   "id": "f97196f0-5bb5-4032-998f-510b69a8a655",
   "metadata": {},
   "outputs": [],
   "source": []
  }
 ],
 "metadata": {
  "kernelspec": {
   "display_name": "Python 3 (ipykernel)",
   "language": "python",
   "name": "python3"
  },
  "language_info": {
   "codemirror_mode": {
    "name": "ipython",
    "version": 3
   },
   "file_extension": ".py",
   "mimetype": "text/x-python",
   "name": "python",
   "nbconvert_exporter": "python",
   "pygments_lexer": "ipython3",
   "version": "3.9.2"
  }
 },
 "nbformat": 4,
 "nbformat_minor": 5
}
