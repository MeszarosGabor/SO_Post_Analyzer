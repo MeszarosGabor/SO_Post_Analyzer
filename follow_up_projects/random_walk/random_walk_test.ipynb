{
 "cells": [
  {
   "cell_type": "code",
   "execution_count": 1,
   "id": "85a23c9e-e567-4b85-970e-a6ce9f38024b",
   "metadata": {},
   "outputs": [],
   "source": [
    "import random_walk as rw"
   ]
  },
  {
   "cell_type": "code",
   "execution_count": 2,
   "id": "b05408b2-f82e-4b80-be0f-596bdf9e08f3",
   "metadata": {},
   "outputs": [
    {
     "name": "stderr",
     "output_type": "stream",
     "text": [
      "100%|███████████████████████████████████████████████████████████████████████████████████████████████████████████████████████████████████████████| 10/10 [00:00<00:00, 29006.25it/s]"
     ]
    },
    {
     "name": "stdout",
     "output_type": "stream",
     "text": [
      "Random Walk: [0, 3, 0, 3, 0, 3, 0, 2, 3, 0, 3]\n",
      "Edge (0, 1) has weight 1\n",
      "Edge (0, 3) has weight 9\n",
      "Edge (0, 2) has weight 2\n",
      "Edge (1, 2) has weight 1\n",
      "Edge (2, 3) has weight 2\n"
     ]
    },
    {
     "name": "stderr",
     "output_type": "stream",
     "text": [
      "\n"
     ]
    }
   ],
   "source": [
    "# Example usage\n",
    "edges = [(0, 1), (1, 2), (2, 3), (3, 0), (0, 2)]\n",
    "G = rw.create_graph(edges)\n",
    "start_node = 0\n",
    "steps = 10\n",
    "x = 1\n",
    "\n",
    "walk = rw.random_walk(G, start_node, steps, x)\n",
    "print(\"Random Walk:\", walk)\n",
    "\n",
    "# Display the updated graph with edge weights\n",
    "for u, v, weight in G.edges(data='weight'):\n",
    "    print(f\"Edge ({u}, {v}) has weight {weight}\")"
   ]
  },
  {
   "cell_type": "code",
   "execution_count": 3,
   "id": "1807d816-3012-490d-962f-ab06e71340cb",
   "metadata": {},
   "outputs": [],
   "source": [
    "CG = rw.create_complete_graph(['a', 'b', 'c'])"
   ]
  },
  {
   "cell_type": "code",
   "execution_count": 9,
   "id": "0f5bae55-0bc6-4cce-8671-e29f3a905553",
   "metadata": {},
   "outputs": [
    {
     "data": {
      "text/plain": [
       "{'weight': 1}"
      ]
     },
     "execution_count": 9,
     "metadata": {},
     "output_type": "execute_result"
    }
   ],
   "source": [
    "CG['c']['b']"
   ]
  },
  {
   "cell_type": "code",
   "execution_count": null,
   "id": "d20761dd-9962-4043-bcfe-5f5681c61bfa",
   "metadata": {},
   "outputs": [],
   "source": []
  }
 ],
 "metadata": {
  "kernelspec": {
   "display_name": "Python 3 (ipykernel)",
   "language": "python",
   "name": "python3"
  },
  "language_info": {
   "codemirror_mode": {
    "name": "ipython",
    "version": 3
   },
   "file_extension": ".py",
   "mimetype": "text/x-python",
   "name": "python",
   "nbconvert_exporter": "python",
   "pygments_lexer": "ipython3",
   "version": "3.9.2"
  }
 },
 "nbformat": 4,
 "nbformat_minor": 5
}
