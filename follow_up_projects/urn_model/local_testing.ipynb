{
 "cells": [
  {
   "cell_type": "code",
   "execution_count": 1,
   "id": "3eb3bf69-bdf5-4409-942c-0d8f62f47da2",
   "metadata": {},
   "outputs": [],
   "source": [
    "import random\n",
    "\n",
    "from multiurn_model import multi_urn_simulation_with_sqlite"
   ]
  },
  {
   "cell_type": "code",
   "execution_count": 4,
   "id": "51818ca5-1dcf-42fc-9329-66b4e2f713c8",
   "metadata": {},
   "outputs": [
    {
     "name": "stdout",
     "output_type": "stream",
     "text": [
      "Flushing DB...\n",
      "... done.\n",
      "recreating table...\n"
     ]
    },
    {
     "name": "stderr",
     "output_type": "stream",
     "text": [
      "/home/debian/gabe/SO_Post_Analyzer/follow_up_projects/urn_model/multiurn_model.py:36: SAWarning: This declarative base already contains a class with the same class name and module name as multiurn_model.UrnSim, and will be replaced in the string-lookup table.\n",
      "  class UrnSim(Base):\n"
     ]
    },
    {
     "name": "stdout",
     "output_type": "stream",
     "text": [
      "...done.\n",
      "Filling up initial pools...\n"
     ]
    },
    {
     "name": "stderr",
     "output_type": "stream",
     "text": [
      "1it [00:00, 76.58it/s]\n",
      "1it [00:00, 103.96it/s]\n",
      "1it [00:00, 96.22it/s]\n",
      "1it [00:00, 100.19it/s]\n",
      "1it [00:00, 92.25it/s]\n",
      "1it [00:00, 93.91it/s]\n",
      "1it [00:00, 107.80it/s]\n",
      "1it [00:00, 105.70it/s]\n",
      "1it [00:00, 91.04it/s]\n",
      "1it [00:00, 101.38it/s]\n",
      "100%|█████████████████████████████████████████████████████████████████████████████████████████████████████████████████████████████████████████████████████████████████████████████| 100/100 [00:02<00:00, 35.44it/s]\n"
     ]
    }
   ],
   "source": [
    "result = multi_urn_simulation_with_sqlite(\n",
    "    rounds=100,\n",
    "    base_pool_count=10,\n",
    "    base_pool_size=1,\n",
    "    new_element_increment=1,\n",
    "    new_opportunity_increment=1,\n",
    "    swap_probability=0.3,\n",
    "    cleanup=False,\n",
    "    card_sizes=[random.randint(1,5) for _ in range(100)],\n",
    "    batch=100,\n",
    ")"
   ]
  },
  {
   "cell_type": "code",
   "execution_count": null,
   "id": "c6f8cee5-e849-4e97-9073-4af880e8d389",
   "metadata": {},
   "outputs": [],
   "source": []
  }
 ],
 "metadata": {
  "kernelspec": {
   "display_name": "Python 3 (ipykernel)",
   "language": "python",
   "name": "python3"
  },
  "language_info": {
   "codemirror_mode": {
    "name": "ipython",
    "version": 3
   },
   "file_extension": ".py",
   "mimetype": "text/x-python",
   "name": "python",
   "nbconvert_exporter": "python",
   "pygments_lexer": "ipython3",
   "version": "3.9.2"
  }
 },
 "nbformat": 4,
 "nbformat_minor": 5
}
