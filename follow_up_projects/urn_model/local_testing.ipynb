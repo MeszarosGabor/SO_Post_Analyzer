{
 "cells": [
  {
   "cell_type": "code",
   "execution_count": 1,
   "id": "3eb3bf69-bdf5-4409-942c-0d8f62f47da2",
   "metadata": {},
   "outputs": [],
   "source": [
    "import random\n",
    "\n",
    "from multiurn_model import multi_urn_simulation_with_sqlite, multi_urn_simulation"
   ]
  },
  {
   "cell_type": "code",
   "execution_count": 4,
   "id": "51818ca5-1dcf-42fc-9329-66b4e2f713c8",
   "metadata": {},
   "outputs": [
    {
     "name": "stdout",
     "output_type": "stream",
     "text": [
      "Flushing DB...\n",
      "... done.\n",
      "recreating table...\n"
     ]
    },
    {
     "name": "stderr",
     "output_type": "stream",
     "text": [
      "/home/debian/gabe/SO_Post_Analyzer/follow_up_projects/urn_model/multiurn_model.py:36: SAWarning: This declarative base already contains a class with the same class name and module name as multiurn_model.UrnSim, and will be replaced in the string-lookup table.\n",
      "  class UrnSim(Base):\n"
     ]
    },
    {
     "name": "stdout",
     "output_type": "stream",
     "text": [
      "...done.\n",
      "Filling up initial pools...\n"
     ]
    },
    {
     "name": "stderr",
     "output_type": "stream",
     "text": [
      "1it [00:00, 76.58it/s]\n",
      "1it [00:00, 103.96it/s]\n",
      "1it [00:00, 96.22it/s]\n",
      "1it [00:00, 100.19it/s]\n",
      "1it [00:00, 92.25it/s]\n",
      "1it [00:00, 93.91it/s]\n",
      "1it [00:00, 107.80it/s]\n",
      "1it [00:00, 105.70it/s]\n",
      "1it [00:00, 91.04it/s]\n",
      "1it [00:00, 101.38it/s]\n",
      "100%|█████████████████████████████████████████████████████████████████████████████████████████████████████████████████████████████████████████████████████████████████████████████| 100/100 [00:02<00:00, 35.44it/s]\n"
     ]
    }
   ],
   "source": [
    "result = multi_urn_simulation_with_sqlite(\n",
    "    rounds=100,\n",
    "    base_pool_count=10,\n",
    "    base_pool_size=1,\n",
    "    new_element_increment=1,\n",
    "    new_opportunity_increment=1,\n",
    "    swap_probability=0.3,\n",
    "    cleanup=False,\n",
    "    card_sizes=[random.randint(1,5) for _ in range(100)],\n",
    "    batch=100,\n",
    ")"
   ]
  },
  {
   "cell_type": "code",
   "execution_count": 11,
   "id": "c6f8cee5-e849-4e97-9073-4af880e8d389",
   "metadata": {},
   "outputs": [
    {
     "name": "stderr",
     "output_type": "stream",
     "text": [
      "100%|█████████████████████████████████████████████████████████████████████████████████████████████████████████████████████████████████████████████████████████████████████████| 100/100 [00:00<00:00, 125577.96it/s]\n"
     ]
    }
   ],
   "source": [
    "result = multi_urn_simulation(\n",
    "    rounds=100,\n",
    "    base_pool_count=10,\n",
    "    base_pool_size=3,\n",
    "    new_element_increment=1,\n",
    "    new_opportunity_increment=1,\n",
    "    swap_probability=0.0001,\n",
    "    card_sizes=[random.randint(1,5) for _ in range(100)],\n",
    ")"
   ]
  },
  {
   "cell_type": "code",
   "execution_count": 12,
   "id": "04ba6b0b-b5ac-415c-91af-579b601cdd9c",
   "metadata": {},
   "outputs": [
    {
     "name": "stdout",
     "output_type": "stream",
     "text": [
      "[0, 1, 2]\n",
      "[3, 4, 5]\n",
      "[6, 7, 8]\n",
      "[9, 10, 11]\n",
      "[12, 13, 14]\n",
      "[15, 16, 17]\n",
      "[18, 19, 20]\n",
      "[21, 22, 23]\n",
      "[24, 25, 26, 24, 30, 25, 31, 24, 25, 24, 31, 32, 24, 30, 33, 24, 24, 31, 24, 24, 31, 30, 31, 24, 24, 24, 24, 24, 31, 25, 31, 30, 24, 32, 34, 24, 32, 24, 31, 31, 31, 31, 31, 32, 25, 32, 24, 31, 31, 24, 31, 32, 25, 32, 24, 24, 30, 24, 24, 34, 35, 35, 36, 24, 24, 31, 24, 32, 30, 24, 24, 24, 24, 24, 24, 24, 24, 36, 37, 31, 24, 25, 30, 30, 37, 38, 30, 24, 26, 39, 31, 36, 25, 31, 30, 24, 24, 24, 34, 24, 25, 24, 30, 31, 30, 32, 24, 35, 32, 30, 24, 31, 24, 31, 24, 24, 32, 24, 24, 30, 36, 24, 24, 24, 24, 31, 24, 24, 24, 32, 38, 40, 32, 24, 30, 32, 31, 24, 24, 32, 31, 31, 24, 32, 30, 32, 34, 24, 24, 32, 30, 32, 34, 30, 25, 31, 24, 24, 31, 24, 24, 24, 31, 25, 32, 31, 24, 40, 41, 32, 32, 32, 25, 31, 31, 24, 25, 30, 24, 31, 33, 42, 38, 31, 24, 36, 36, 24, 24, 31, 30, 31, 24, 24, 24, 24, 24, 31, 30, 24, 24, 24, 25, 24, 24, 24, 24, 24, 32, 39, 43, 24, 24, 41, 44, 26, 31, 36, 24, 24, 24, 34, 33, 31, 24, 24, 32, 31, 24, 35, 26, 24, 32, 24, 31, 31, 30, 31, 30, 36, 24, 24, 31, 24, 24, 30, 31, 32, 26, 24, 32, 24, 24, 31, 24, 36, 34, 35, 24, 24, 24, 24, 24, 24, 36, 30, 30, 24, 24, 24, 24, 30, 41, 33, 34, 31, 24, 30, 32, 24, 30, 24, 24, 24, 24, 36, 35, 24, 31, 31, 31, 36, 26, 24, 24, 30, 36, 31, 26, 24, 24, 26, 24, 26]\n",
      "[27, 28, 29]\n"
     ]
    }
   ],
   "source": [
    "for pool in result['base_pools']:\n",
    "    print(pool)"
   ]
  },
  {
   "cell_type": "code",
   "execution_count": null,
   "id": "1b8c13bb-4378-4307-886e-03d653389002",
   "metadata": {},
   "outputs": [],
   "source": []
  }
 ],
 "metadata": {
  "kernelspec": {
   "display_name": "Python 3 (ipykernel)",
   "language": "python",
   "name": "python3"
  },
  "language_info": {
   "codemirror_mode": {
    "name": "ipython",
    "version": 3
   },
   "file_extension": ".py",
   "mimetype": "text/x-python",
   "name": "python",
   "nbconvert_exporter": "python",
   "pygments_lexer": "ipython3",
   "version": "3.9.2"
  }
 },
 "nbformat": 4,
 "nbformat_minor": 5
}
