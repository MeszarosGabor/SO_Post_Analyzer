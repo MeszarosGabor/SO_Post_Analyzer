{
 "cells": [
  {
   "cell_type": "code",
   "execution_count": 1,
   "id": "3eb3bf69-bdf5-4409-942c-0d8f62f47da2",
   "metadata": {},
   "outputs": [],
   "source": [
    "import random\n",
    "from polyas_urn_model import urn_simulation\n",
    "from multiurn_model import multi_urn_simulation_with_sqlite, multi_urn_simulation"
   ]
  },
  {
   "cell_type": "code",
   "execution_count": 9,
   "id": "c6f8cee5-e849-4e97-9073-4af880e8d389",
   "metadata": {},
   "outputs": [
    {
     "name": "stderr",
     "output_type": "stream",
     "text": [
      "100%|██████████████████████████████████████████████████████████████████████████████████████████████████████████████████████████████████████████████████████████████████████████| 100/100 [00:00<00:00, 64736.90it/s]\n",
      "100%|██████████████████████████████████████████████████████████████████████████████████████████████████████████████████████████████████████████████████████████████████████████| 100/100 [00:00<00:00, 63043.80it/s]\n"
     ]
    }
   ],
   "source": [
    "card_sizes=[random.randint(1,5) for _ in range(100)]\n",
    "\n",
    "result = urn_simulation(\n",
    "    rounds=100,\n",
    "    base_pool_size=3,\n",
    "    new_element_increment=10,\n",
    "    new_opportunity_increment=0,\n",
    "    card_sizes=card_sizes,\n",
    "    return_urns=True,\n",
    ")\n",
    "#for pool in result['urns']:\n",
    "#    print(pool)\n",
    "\n",
    "m_result = multi_urn_simulation(\n",
    "    rounds=100,\n",
    "    base_pool_count=2,\n",
    "    base_pool_size=3,\n",
    "    new_element_increment=10,\n",
    "    new_opportunity_increment=0,\n",
    "    swap_propability=0.0,\n",
    "    card_sizes=card_sizes,\n",
    "    return_urns=True,\n",
    ")\n",
    "\n",
    "#for pool in m_result['urns']:\n",
    "#    print(pool)"
   ]
  },
  {
   "cell_type": "code",
   "execution_count": 10,
   "id": "1b8c13bb-4378-4307-886e-03d653389002",
   "metadata": {},
   "outputs": [
    {
     "data": {
      "text/plain": [
       "3083"
      ]
     },
     "execution_count": 10,
     "metadata": {},
     "output_type": "execute_result"
    }
   ],
   "source": [
    "len(result['urns'])"
   ]
  },
  {
   "cell_type": "code",
   "execution_count": 11,
   "id": "c2604ab4-e0af-41af-a6ae-44b22e124f9e",
   "metadata": {},
   "outputs": [
    {
     "name": "stdout",
     "output_type": "stream",
     "text": [
      "3083\n",
      "3\n"
     ]
    }
   ],
   "source": [
    "for pool in m_result['urns']:\n",
    "    print(len(pool))"
   ]
  },
  {
   "cell_type": "code",
   "execution_count": null,
   "id": "82b5c84a-733b-4927-ac6e-e7e0787c97d4",
   "metadata": {},
   "outputs": [],
   "source": []
  }
 ],
 "metadata": {
  "kernelspec": {
   "display_name": "Python 3 (ipykernel)",
   "language": "python",
   "name": "python3"
  },
  "language_info": {
   "codemirror_mode": {
    "name": "ipython",
    "version": 3
   },
   "file_extension": ".py",
   "mimetype": "text/x-python",
   "name": "python",
   "nbconvert_exporter": "python",
   "pygments_lexer": "ipython3",
   "version": "3.9.2"
  }
 },
 "nbformat": 4,
 "nbformat_minor": 5
}
