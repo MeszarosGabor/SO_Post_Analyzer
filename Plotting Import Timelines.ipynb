{
 "cells": [
  {
   "cell_type": "code",
   "execution_count": 2,
   "id": "d9a28c92-4eeb-4de3-8b48-e7eeb5278860",
   "metadata": {},
   "outputs": [],
   "source": [
    "import json\n",
    "import datetime\n",
    "\n",
    "import matplotlib.pyplot as plt\n",
    "import pandas as pd"
   ]
  },
  {
   "cell_type": "code",
   "execution_count": 3,
   "id": "253ebaa9-14e8-43ef-8e60-62ad42148704",
   "metadata": {},
   "outputs": [],
   "source": [
    "with open(\"/home/jegkocka88/CCL/SO_Post_Analyzer/data/results/first_indiv\") as handle:\n",
    "    indiv_raw = json.load(handle)\n",
    "    indiv = {k: datetime.datetime.strptime(v, '%Y-%m-%d') for k, v in indiv_raw.items()}\n",
    "\n",
    "with open(\"/home/jegkocka88/CCL/SO_Post_Analyzer/data/results/first_pairs\") as handle:\n",
    "    pair_raw = json.load(handle)\n",
    "    pair = {k: datetime.datetime.strptime(v, '%Y-%m-%d') for k, v in pair_raw.items()}"
   ]
  },
  {
   "cell_type": "code",
   "execution_count": 4,
   "id": "b14b4297-2815-4337-881f-8f938b2ef00d",
   "metadata": {},
   "outputs": [],
   "source": [
    "df_indiv = pd.DataFrame.from_dict(indiv, orient='index', columns=['appearance_date'])\n",
    "df_pair = pd.DataFrame.from_dict(pair, orient='index', columns=['appearance_date'])"
   ]
  },
  {
   "cell_type": "code",
   "execution_count": 5,
   "id": "ff3cd287-df67-46f0-8955-238f81704b5c",
   "metadata": {},
   "outputs": [
    {
     "data": {
      "text/html": [
       "<div>\n",
       "<style scoped>\n",
       "    .dataframe tbody tr th:only-of-type {\n",
       "        vertical-align: middle;\n",
       "    }\n",
       "\n",
       "    .dataframe tbody tr th {\n",
       "        vertical-align: top;\n",
       "    }\n",
       "\n",
       "    .dataframe thead th {\n",
       "        text-align: right;\n",
       "    }\n",
       "</style>\n",
       "<table border=\"1\" class=\"dataframe\">\n",
       "  <thead>\n",
       "    <tr style=\"text-align: right;\">\n",
       "      <th></th>\n",
       "      <th>appearance_date</th>\n",
       "      <th>bin</th>\n",
       "    </tr>\n",
       "  </thead>\n",
       "  <tbody>\n",
       "    <tr>\n",
       "      <th>MySQLdb</th>\n",
       "      <td>2008-08-03</td>\n",
       "      <td>(2008-07-28 09:40:19.200000, 2008-08-14 04:39:...</td>\n",
       "    </tr>\n",
       "    <tr>\n",
       "      <th>foo</th>\n",
       "      <td>2008-08-06</td>\n",
       "      <td>(2008-07-28 09:40:19.200000, 2008-08-14 04:39:...</td>\n",
       "    </tr>\n",
       "    <tr>\n",
       "      <th>new</th>\n",
       "      <td>2008-08-14</td>\n",
       "      <td>(2008-07-28 09:40:19.200000, 2008-08-14 04:39:...</td>\n",
       "    </tr>\n",
       "    <tr>\n",
       "      <th>setuptools</th>\n",
       "      <td>2008-08-20</td>\n",
       "      <td>(2008-08-14 04:39:21.600000, 2008-08-25 09:18:...</td>\n",
       "    </tr>\n",
       "    <tr>\n",
       "      <th>ctypes</th>\n",
       "      <td>2008-08-21</td>\n",
       "      <td>(2008-08-14 04:39:21.600000, 2008-08-25 09:18:...</td>\n",
       "    </tr>\n",
       "    <tr>\n",
       "      <th>...</th>\n",
       "      <td>...</td>\n",
       "      <td>...</td>\n",
       "    </tr>\n",
       "    <tr>\n",
       "      <th>win11toast</th>\n",
       "      <td>2023-11-27</td>\n",
       "      <td>(2023-11-18 19:20:38.400000, 2023-11-30 00:00:00]</td>\n",
       "    </tr>\n",
       "    <tr>\n",
       "      <th>freqtrade</th>\n",
       "      <td>2023-11-28</td>\n",
       "      <td>(2023-11-18 19:20:38.400000, 2023-11-30 00:00:00]</td>\n",
       "    </tr>\n",
       "    <tr>\n",
       "      <th>pyfixest</th>\n",
       "      <td>2023-11-28</td>\n",
       "      <td>(2023-11-18 19:20:38.400000, 2023-11-30 00:00:00]</td>\n",
       "    </tr>\n",
       "    <tr>\n",
       "      <th>yeelight</th>\n",
       "      <td>2023-11-29</td>\n",
       "      <td>(2023-11-18 19:20:38.400000, 2023-11-30 00:00:00]</td>\n",
       "    </tr>\n",
       "    <tr>\n",
       "      <th>kyber</th>\n",
       "      <td>2023-11-30</td>\n",
       "      <td>(2023-11-18 19:20:38.400000, 2023-11-30 00:00:00]</td>\n",
       "    </tr>\n",
       "  </tbody>\n",
       "</table>\n",
       "<p>10449 rows × 2 columns</p>\n",
       "</div>"
      ],
      "text/plain": [
       "           appearance_date                                                bin\n",
       "MySQLdb         2008-08-03  (2008-07-28 09:40:19.200000, 2008-08-14 04:39:...\n",
       "foo             2008-08-06  (2008-07-28 09:40:19.200000, 2008-08-14 04:39:...\n",
       "new             2008-08-14  (2008-07-28 09:40:19.200000, 2008-08-14 04:39:...\n",
       "setuptools      2008-08-20  (2008-08-14 04:39:21.600000, 2008-08-25 09:18:...\n",
       "ctypes          2008-08-21  (2008-08-14 04:39:21.600000, 2008-08-25 09:18:...\n",
       "...                    ...                                                ...\n",
       "win11toast      2023-11-27  (2023-11-18 19:20:38.400000, 2023-11-30 00:00:00]\n",
       "freqtrade       2023-11-28  (2023-11-18 19:20:38.400000, 2023-11-30 00:00:00]\n",
       "pyfixest        2023-11-28  (2023-11-18 19:20:38.400000, 2023-11-30 00:00:00]\n",
       "yeelight        2023-11-29  (2023-11-18 19:20:38.400000, 2023-11-30 00:00:00]\n",
       "kyber           2023-11-30  (2023-11-18 19:20:38.400000, 2023-11-30 00:00:00]\n",
       "\n",
       "[10449 rows x 2 columns]"
      ]
     },
     "execution_count": 5,
     "metadata": {},
     "output_type": "execute_result"
    }
   ],
   "source": [
    "df_indiv['bin'] = pd.cut(df_indiv.appearance_date, bins=500)\n",
    "df_indiv"
   ]
  },
  {
   "cell_type": "code",
   "execution_count": 9,
   "id": "52cd4388",
   "metadata": {},
   "outputs": [
    {
     "data": {
      "text/html": [
       "<div>\n",
       "<style scoped>\n",
       "    .dataframe tbody tr th:only-of-type {\n",
       "        vertical-align: middle;\n",
       "    }\n",
       "\n",
       "    .dataframe tbody tr th {\n",
       "        vertical-align: top;\n",
       "    }\n",
       "\n",
       "    .dataframe thead th {\n",
       "        text-align: right;\n",
       "    }\n",
       "</style>\n",
       "<table border=\"1\" class=\"dataframe\">\n",
       "  <thead>\n",
       "    <tr style=\"text-align: right;\">\n",
       "      <th></th>\n",
       "      <th>appearance_date</th>\n",
       "      <th>bin</th>\n",
       "    </tr>\n",
       "  </thead>\n",
       "  <tbody>\n",
       "    <tr>\n",
       "      <th>parameterized|unittest</th>\n",
       "      <td>2008-08-28</td>\n",
       "      <td>(2008-08-22 10:13:26.400000, 2008-09-08 03:33:...</td>\n",
       "    </tr>\n",
       "    <tr>\n",
       "      <th>google|wsgiref</th>\n",
       "      <td>2008-09-16</td>\n",
       "      <td>(2008-09-08 03:33:07.200000, 2008-09-19 07:06:...</td>\n",
       "    </tr>\n",
       "    <tr>\n",
       "      <th>HTMLParser|html</th>\n",
       "      <td>2008-09-16</td>\n",
       "      <td>(2008-09-08 03:33:07.200000, 2008-09-19 07:06:...</td>\n",
       "    </tr>\n",
       "    <tr>\n",
       "      <th>dir|something</th>\n",
       "      <td>2008-09-23</td>\n",
       "      <td>(2008-09-19 07:06:14.400000, 2008-09-30 10:39:...</td>\n",
       "    </tr>\n",
       "    <tr>\n",
       "      <th>decorator|functools</th>\n",
       "      <td>2008-09-29</td>\n",
       "      <td>(2008-09-19 07:06:14.400000, 2008-09-30 10:39:...</td>\n",
       "    </tr>\n",
       "    <tr>\n",
       "      <th>...</th>\n",
       "      <td>...</td>\n",
       "      <td>...</td>\n",
       "    </tr>\n",
       "    <tr>\n",
       "      <th>psycopg|table</th>\n",
       "      <td>2023-11-29</td>\n",
       "      <td>(2023-11-20 20:26:52.800000, 2023-12-02 00:00:00]</td>\n",
       "    </tr>\n",
       "    <tr>\n",
       "      <th>sqlmodel|typer</th>\n",
       "      <td>2023-11-30</td>\n",
       "      <td>(2023-11-20 20:26:52.800000, 2023-12-02 00:00:00]</td>\n",
       "    </tr>\n",
       "    <tr>\n",
       "      <th>langchain|requests</th>\n",
       "      <td>2023-12-01</td>\n",
       "      <td>(2023-11-20 20:26:52.800000, 2023-12-02 00:00:00]</td>\n",
       "    </tr>\n",
       "    <tr>\n",
       "      <th>requests|seleniumbase</th>\n",
       "      <td>2023-12-02</td>\n",
       "      <td>(2023-11-20 20:26:52.800000, 2023-12-02 00:00:00]</td>\n",
       "    </tr>\n",
       "    <tr>\n",
       "      <th>cv2|kivymd</th>\n",
       "      <td>2023-12-02</td>\n",
       "      <td>(2023-11-20 20:26:52.800000, 2023-12-02 00:00:00]</td>\n",
       "    </tr>\n",
       "  </tbody>\n",
       "</table>\n",
       "<p>7645 rows × 2 columns</p>\n",
       "</div>"
      ],
      "text/plain": [
       "                       appearance_date  \\\n",
       "parameterized|unittest      2008-08-28   \n",
       "google|wsgiref              2008-09-16   \n",
       "HTMLParser|html             2008-09-16   \n",
       "dir|something               2008-09-23   \n",
       "decorator|functools         2008-09-29   \n",
       "...                                ...   \n",
       "psycopg|table               2023-11-29   \n",
       "sqlmodel|typer              2023-11-30   \n",
       "langchain|requests          2023-12-01   \n",
       "requests|seleniumbase       2023-12-02   \n",
       "cv2|kivymd                  2023-12-02   \n",
       "\n",
       "                                                                      bin  \n",
       "parameterized|unittest  (2008-08-22 10:13:26.400000, 2008-09-08 03:33:...  \n",
       "google|wsgiref          (2008-09-08 03:33:07.200000, 2008-09-19 07:06:...  \n",
       "HTMLParser|html         (2008-09-08 03:33:07.200000, 2008-09-19 07:06:...  \n",
       "dir|something           (2008-09-19 07:06:14.400000, 2008-09-30 10:39:...  \n",
       "decorator|functools     (2008-09-19 07:06:14.400000, 2008-09-30 10:39:...  \n",
       "...                                                                   ...  \n",
       "psycopg|table           (2023-11-20 20:26:52.800000, 2023-12-02 00:00:00]  \n",
       "sqlmodel|typer          (2023-11-20 20:26:52.800000, 2023-12-02 00:00:00]  \n",
       "langchain|requests      (2023-11-20 20:26:52.800000, 2023-12-02 00:00:00]  \n",
       "requests|seleniumbase   (2023-11-20 20:26:52.800000, 2023-12-02 00:00:00]  \n",
       "cv2|kivymd              (2023-11-20 20:26:52.800000, 2023-12-02 00:00:00]  \n",
       "\n",
       "[7645 rows x 2 columns]"
      ]
     },
     "execution_count": 9,
     "metadata": {},
     "output_type": "execute_result"
    }
   ],
   "source": [
    "df_pair['bin'] = pd.cut(df_pair.appearance_date, bins=500)\n",
    "df_pair"
   ]
  },
  {
   "cell_type": "code",
   "execution_count": 10,
   "id": "ebae3e86-9045-4b7c-bf91-fcb45e0a269c",
   "metadata": {},
   "outputs": [
    {
     "data": {
      "text/plain": [
       "[<matplotlib.lines.Line2D at 0x7e13f169ed10>,\n",
       " <matplotlib.lines.Line2D at 0x7e13f16c1a90>]"
      ]
     },
     "execution_count": 10,
     "metadata": {},
     "output_type": "execute_result"
    },
    {
     "data": {
      "image/png": "[encoded data removed]",
      "text/plain": [
       "<Figure size 640x480 with 1 Axes>"
      ]
     },
     "metadata": {},
     "output_type": "display_data"
    }
   ],
   "source": [
    "items = list(df_indiv.bin.value_counts())\n",
    "sm = 0\n",
    "cumulative_indiv = []\n",
    "for item in items:\n",
    "    sm += item\n",
    "    cumulative_indiv.append(sm)\n",
    "\n",
    "items = list(df_pair.bin.value_counts())\n",
    "sm = 0\n",
    "cumulative_pair = []\n",
    "for item in items:\n",
    "    sm += item\n",
    "    cumulative_pair.append(sm)\n",
    "\n",
    "plt.plot(range(len(cumulative_indiv)), cumulative_indiv, 'r-', range(len(cumulative_pair)), cumulative_pair, 'b-')"
   ]
  },
  {
   "cell_type": "code",
   "execution_count": 9,
   "id": "0808833a-7dd9-4a9a-8b79-d563771f6684",
   "metadata": {},
   "outputs": [
    {
     "data": {
      "text/plain": [
       "[<matplotlib.lines.Line2D at 0x7c26142c4f90>]"
      ]
     },
     "execution_count": 9,
     "metadata": {},
     "output_type": "execute_result"
    },
    {
     "data": {
      "image/png": "[encoded data removed]",
      "text/plain": [
       "<Figure size 640x480 with 1 Axes>"
      ]
     },
     "metadata": {},
     "output_type": "display_data"
    }
   ],
   "source": [
    "\n",
    "\n",
    "plt.plot(range(len(cumulative)), cumulative)"
   ]
  },
  {
   "cell_type": "code",
   "execution_count": null,
   "id": "0e4d74e7-e14f-411f-9f02-9a283ebea161",
   "metadata": {},
   "outputs": [],
   "source": []
  }
 ],
 "metadata": {
  "kernelspec": {
   "display_name": "Python 3 (ipykernel)",
   "language": "python",
   "name": "python3"
  },
  "language_info": {
   "codemirror_mode": {
    "name": "ipython",
    "version": 3
   },
   "file_extension": ".py",
   "mimetype": "text/x-python",
   "name": "python",
   "nbconvert_exporter": "python",
   "pygments_lexer": "ipython3",
   "version": "3.11.2"
  }
 },
 "nbformat": 4,
 "nbformat_minor": 5
}
