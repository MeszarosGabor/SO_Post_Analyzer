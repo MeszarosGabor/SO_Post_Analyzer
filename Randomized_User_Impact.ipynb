{
 "cells": [
  {
   "cell_type": "code",
   "execution_count": 11,
   "id": "0745ac69-5710-4b09-bb20-19d17752bc13",
   "metadata": {},
   "outputs": [],
   "source": [
    "import collections\n",
    "import copy\n",
    "import itertools\n",
    "import json\n",
    "import datetime\n",
    "import random\n",
    "import time\n",
    "\n",
    "\n",
    "import matplotlib.pyplot as plt\n",
    "import numpy as np\n",
    "import pandas as pd\n",
    "import tqdm"
   ]
  },
  {
   "cell_type": "code",
   "execution_count": 22,
   "id": "bedc8378-eb73-4863-9c4a-d827e74c71cd",
   "metadata": {},
   "outputs": [],
   "source": [
    "language = \"python\"\n",
    "path_to_lib = f\"data/results/{language}\""
   ]
  },
  {
   "cell_type": "code",
   "execution_count": 23,
   "id": "b7555492-2374-48b0-8d51-611f9387a24f",
   "metadata": {},
   "outputs": [],
   "source": [
    "with open(f\"{path_to_lib}/{language}_{language}_post_stats.json\") as handle:\n",
    "    post_stats = json.load(handle)\n",
    "    sorted_post_stats = sorted(post_stats, key=lambda item:  datetime.datetime.strptime(item['date'], \"%Y-%m-%dT%H:%M:%S.%f\"))\n",
    "\n",
    "with open(f\"{path_to_lib}/{language}_libs_first_dates.json\") as handle:\n",
    "    libs_first_dates = json.load(handle)"
   ]
  },
  {
   "cell_type": "code",
   "execution_count": 14,
   "id": "8013155a-5c84-407f-8aac-af70bb509b65",
   "metadata": {},
   "outputs": [],
   "source": [
    "def get_randomized_post_stats(sorted_post_stats):\n",
    "\n",
    "    libs_already_available = []\n",
    "    randomized_post_stats = []\n",
    "    \n",
    "    randomized_pairs_first_dates = {}\n",
    "    randomized_pairs_dates = collections.defaultdict(list)\n",
    "    \n",
    "    for stat in tqdm.tqdm(sorted_post_stats):\n",
    "        randomized_stat = copy.deepcopy(stat)\n",
    "        imports = stat[\"imports\"]\n",
    "        randomized_stat[\"imports\"] = []\n",
    "    \n",
    "        vintages = []\n",
    "        for imp in imports:\n",
    "            if libs_first_dates[imp][\"id\"] == stat[\"id\"]:\n",
    "                vintages.append(imp)\n",
    "                randomized_stat[\"imports\"].append(imp)\n",
    "            else:\n",
    "                randomized_stat[\"imports\"].append(random.choice(libs_already_available))\n",
    "        libs_already_available.extend(vintages)\n",
    "        randomized_post_stats.append(randomized_stat)\n",
    "    \n",
    "        # Artificially generate pairs_first_dates\n",
    "        for imp1, imp2 in itertools.combinations(randomized_stat[\"imports\"], 2):\n",
    "            canonical = \"|\".join(sorted([imp1, imp2]))\n",
    "            stat_date_str = datetime.datetime.strptime(stat[\"date\"], \"%Y-%m-%dT%H:%M:%S.%f\").strftime(\"%Y-%m-%d\")\n",
    "            \n",
    "            randomized_pairs_dates[canonical].append(stat_date_str)\n",
    "            if canonical in randomized_pairs_first_dates:\n",
    "                continue\n",
    "            randomized_pairs_first_dates[canonical] = {\n",
    "                \"id\": stat[\"id\"],\n",
    "                \"poster_id\": stat[\"poster_id\"],\n",
    "                \"date\": stat_date_str,\n",
    "            }\n",
    "    assert len(sorted_post_stats) == len(randomized_post_stats)\n",
    "    return randomized_post_stats, randomized_pairs_first_dates, randomized_pairs_dates\n"
   ]
  },
  {
   "cell_type": "code",
   "execution_count": 19,
   "id": "9e763752-1ff2-4ebb-bd43-62da6328f498",
   "metadata": {},
   "outputs": [],
   "source": [
    "VALUE_THRESHOLDS = [2, 5]#[5, 10, 25]#[25, 50, 100, 200]\n",
    "VALUE_TIME_WINDOW = datetime.timedelta(days=365)\n",
    "BIN_BORDERS = [1, 10, 25, 50, 100, 200, np.infty]  \n",
    "\n",
    "def calculate_post_rank_distribution(sorted_post_stats, pairs_first_dates, pairs_dates):\n",
    "    user_posts = collections.defaultdict(set)\n",
    "    novel_post_stats = []\n",
    "    post_rank_count = collections.defaultdict(int)\n",
    "    novel_post_rank_count = collections.defaultdict(int)\n",
    "    valuable_novel_post_rank_count = {\n",
    "        k: collections.defaultdict(int) for k in VALUE_THRESHOLDS\n",
    "    }\n",
    "    stats = collections.defaultdict(int)\n",
    "    for post_stat in tqdm.tqdm(sorted_post_stats):\n",
    "        try:\n",
    "            user_posts[post_stat[\"poster_id\"]].add(post_stat[\"id\"])\n",
    "            post_rank = len(user_posts[post_stat[\"poster_id\"]])\n",
    "            novelty_count = 0\n",
    "            is_valuable = {k: False for k in VALUE_THRESHOLDS}\n",
    "            for imp1, imp2 in itertools.combinations(post_stat[\"imports\"], 2):\n",
    "                canonical_pair_name = \"|\".join(sorted([imp1, imp2]))\n",
    "                if pairs_first_dates[canonical_pair_name][\"id\"] == post_stat[\"id\"]:\n",
    "                    novelty_count += 1\n",
    "                    for value_threshold in VALUE_THRESHOLDS:\n",
    "                        # Decide if the pair in the post received enough traction within the prescribed time window.\n",
    "                        relevant_dates = [\n",
    "                            dt for dt in pairs_dates[canonical_pair_name]if (\n",
    "                                datetime.datetime.strptime(dt, \"%Y-%m-%d\") <\n",
    "                                datetime.datetime.strptime(pairs_first_dates[canonical_pair_name][\"date\"], \"%Y-%m-%d\") + VALUE_TIME_WINDOW\n",
    "                            )\n",
    "                        ]\n",
    "                        if len(relevant_dates) >= value_threshold:\n",
    "                            is_valuable[value_threshold] = True\n",
    "                    novel_post_stats.append(\n",
    "                        {\n",
    "                            \"poster_id\": post_stat[\"poster_id\"],\n",
    "                            \"id\": post_stat[\"id\"],\n",
    "                            \"post_rank\": len(user_posts[post_stat[\"poster_id\"]]),\n",
    "                            \"canonical_pair_name\": canonical_pair_name,\n",
    "                            \"pair_total_use_within_window\": len(relevant_dates),\n",
    "                            \"date\": datetime.datetime.strptime(post_stat[\"date\"], \"%Y-%m-%dT%H:%M:%S.%f\"),\n",
    "                        }\n",
    "                    )\n",
    "            if novelty_count > 0:\n",
    "                stats[\"novelty_post_count\"] += 1\n",
    "                novel_post_rank_count[post_rank] += 1\n",
    "    \n",
    "                # Decide if the post is valuable\n",
    "                for value_threshold in VALUE_THRESHOLDS:\n",
    "                    if is_valuable[value_threshold]:\n",
    "                        valuable_novel_post_rank_count[value_threshold][post_rank] += 1\n",
    "            else:\n",
    "                stats[\"non_novel_post_count\"] += 1\n",
    "            stats[\"total_post_count\"] += 1\n",
    "            post_rank_count[post_rank] += 1\n",
    "        except Exception as exc:\n",
    "            stats[exc] += 1\n",
    "    \n",
    "    print(\"STATS:\")\n",
    "    for k, v in stats.items():\n",
    "        print(f\"\\t{k}: {v}\")\n",
    "\n",
    "    return post_rank_count, novel_post_rank_count, valuable_novel_post_rank_count\n",
    "\n",
    "def calculate_novel_ratios(post_rank_count, novel_post_rank_count, valuable_novel_post_rank_count):\n",
    "    # Calculate it for the richest domain of the valuable ratios, that is, for the smallest threshold.\n",
    "    novel_ratio = {\n",
    "        k: novel_post_rank_count.get(k, 0) / post_rank_count.get(k, 1)\n",
    "        for k in sorted(valuable_novel_post_rank_count[min(VALUE_THRESHOLDS)].keys())\n",
    "    }\n",
    "    \n",
    "    valuable_novel_ratio = {}\n",
    "    for value_threshold in VALUE_THRESHOLDS:\n",
    "        valuable_novel_ratio[value_threshold] = {\n",
    "            k: valuable_novel_post_rank_count[value_threshold].get(k, 0) / post_rank_count.get(k, 1)\n",
    "            for k in sorted(valuable_novel_post_rank_count[value_threshold].keys())\n",
    "        }\n",
    "\n",
    "    return novel_ratio, valuable_novel_ratio"
   ]
  },
  {
   "cell_type": "code",
   "execution_count": 21,
   "id": "e769d441-83f1-4eea-ab4f-a49b52129767",
   "metadata": {},
   "outputs": [
    {
     "name": "stderr",
     "output_type": "stream",
     "text": [
      "100%|██████████████████████████████████████████████████████████████████████████████████████████████████████████████████████████████████████████████████████████████| 42756/42756 [00:01<00:00, 42061.59it/s]\n",
      "100%|██████████████████████████████████████████████████████████████████████████████████████████████████████████████████████████████████████████████████████████████| 42756/42756 [00:00<00:00, 48687.41it/s]\n"
     ]
    },
    {
     "name": "stdout",
     "output_type": "stream",
     "text": [
      "STATS:\n",
      "\tnon_novel_post_count: 33617\n",
      "\ttotal_post_count: 42756\n",
      "\tnovelty_post_count: 9139\n"
     ]
    },
    {
     "name": "stderr",
     "output_type": "stream",
     "text": [
      "100%|██████████████████████████████████████████████████████████████████████████████████████████████████████████████████████████████████████████████████████████████| 42756/42756 [00:00<00:00, 43648.02it/s]\n",
      "100%|██████████████████████████████████████████████████████████████████████████████████████████████████████████████████████████████████████████████████████████████| 42756/42756 [00:00<00:00, 49289.57it/s]\n"
     ]
    },
    {
     "name": "stdout",
     "output_type": "stream",
     "text": [
      "STATS:\n",
      "\tnon_novel_post_count: 33619\n",
      "\ttotal_post_count: 42756\n",
      "\tnovelty_post_count: 9137\n"
     ]
    },
    {
     "name": "stderr",
     "output_type": "stream",
     "text": [
      "100%|██████████████████████████████████████████████████████████████████████████████████████████████████████████████████████████████████████████████████████████████| 42756/42756 [00:01<00:00, 40888.63it/s]\n",
      "100%|██████████████████████████████████████████████████████████████████████████████████████████████████████████████████████████████████████████████████████████████| 42756/42756 [00:00<00:00, 49095.36it/s]\n"
     ]
    },
    {
     "name": "stdout",
     "output_type": "stream",
     "text": [
      "STATS:\n",
      "\tnon_novel_post_count: 33606\n",
      "\ttotal_post_count: 42756\n",
      "\tnovelty_post_count: 9150\n"
     ]
    },
    {
     "name": "stderr",
     "output_type": "stream",
     "text": [
      "100%|██████████████████████████████████████████████████████████████████████████████████████████████████████████████████████████████████████████████████████████████| 42756/42756 [00:00<00:00, 45546.55it/s]\n",
      "100%|██████████████████████████████████████████████████████████████████████████████████████████████████████████████████████████████████████████████████████████████| 42756/42756 [00:00<00:00, 49343.30it/s]\n"
     ]
    },
    {
     "name": "stdout",
     "output_type": "stream",
     "text": [
      "STATS:\n",
      "\tnon_novel_post_count: 33612\n",
      "\ttotal_post_count: 42756\n",
      "\tnovelty_post_count: 9144\n"
     ]
    },
    {
     "name": "stderr",
     "output_type": "stream",
     "text": [
      "100%|██████████████████████████████████████████████████████████████████████████████████████████████████████████████████████████████████████████████████████████████| 42756/42756 [00:01<00:00, 41109.87it/s]\n",
      "100%|██████████████████████████████████████████████████████████████████████████████████████████████████████████████████████████████████████████████████████████████| 42756/42756 [00:00<00:00, 49657.75it/s]\n"
     ]
    },
    {
     "name": "stdout",
     "output_type": "stream",
     "text": [
      "STATS:\n",
      "\tnon_novel_post_count: 33617\n",
      "\ttotal_post_count: 42756\n",
      "\tnovelty_post_count: 9139\n"
     ]
    },
    {
     "name": "stderr",
     "output_type": "stream",
     "text": [
      "100%|██████████████████████████████████████████████████████████████████████████████████████████████████████████████████████████████████████████████████████████████| 42756/42756 [00:00<00:00, 43852.56it/s]\n",
      "100%|██████████████████████████████████████████████████████████████████████████████████████████████████████████████████████████████████████████████████████████████| 42756/42756 [00:00<00:00, 49494.16it/s]\n"
     ]
    },
    {
     "name": "stdout",
     "output_type": "stream",
     "text": [
      "STATS:\n",
      "\tnon_novel_post_count: 33619\n",
      "\ttotal_post_count: 42756\n",
      "\tnovelty_post_count: 9137\n"
     ]
    },
    {
     "name": "stderr",
     "output_type": "stream",
     "text": [
      "100%|██████████████████████████████████████████████████████████████████████████████████████████████████████████████████████████████████████████████████████████████| 42756/42756 [00:01<00:00, 41053.04it/s]\n",
      "100%|██████████████████████████████████████████████████████████████████████████████████████████████████████████████████████████████████████████████████████████████| 42756/42756 [00:00<00:00, 48624.09it/s]\n"
     ]
    },
    {
     "name": "stdout",
     "output_type": "stream",
     "text": [
      "STATS:\n",
      "\tnon_novel_post_count: 33618\n",
      "\ttotal_post_count: 42756\n",
      "\tnovelty_post_count: 9138\n"
     ]
    },
    {
     "name": "stderr",
     "output_type": "stream",
     "text": [
      "100%|██████████████████████████████████████████████████████████████████████████████████████████████████████████████████████████████████████████████████████████████| 42756/42756 [00:00<00:00, 44002.78it/s]\n",
      "100%|██████████████████████████████████████████████████████████████████████████████████████████████████████████████████████████████████████████████████████████████| 42756/42756 [00:00<00:00, 48710.32it/s]\n"
     ]
    },
    {
     "name": "stdout",
     "output_type": "stream",
     "text": [
      "STATS:\n",
      "\tnon_novel_post_count: 33614\n",
      "\ttotal_post_count: 42756\n",
      "\tnovelty_post_count: 9142\n"
     ]
    },
    {
     "name": "stderr",
     "output_type": "stream",
     "text": [
      "100%|██████████████████████████████████████████████████████████████████████████████████████████████████████████████████████████████████████████████████████████████| 42756/42756 [00:01<00:00, 39372.48it/s]\n",
      "100%|██████████████████████████████████████████████████████████████████████████████████████████████████████████████████████████████████████████████████████████████| 42756/42756 [00:00<00:00, 47191.95it/s]\n"
     ]
    },
    {
     "name": "stdout",
     "output_type": "stream",
     "text": [
      "STATS:\n",
      "\tnon_novel_post_count: 33605\n",
      "\ttotal_post_count: 42756\n",
      "\tnovelty_post_count: 9151\n"
     ]
    },
    {
     "name": "stderr",
     "output_type": "stream",
     "text": [
      "100%|██████████████████████████████████████████████████████████████████████████████████████████████████████████████████████████████████████████████████████████████| 42756/42756 [00:00<00:00, 42918.91it/s]\n",
      "100%|██████████████████████████████████████████████████████████████████████████████████████████████████████████████████████████████████████████████████████████████| 42756/42756 [00:01<00:00, 41328.28it/s]"
     ]
    },
    {
     "name": "stdout",
     "output_type": "stream",
     "text": [
      "STATS:\n",
      "\tnon_novel_post_count: 33605\n",
      "\ttotal_post_count: 42756\n",
      "\tnovelty_post_count: 9151\n"
     ]
    },
    {
     "name": "stderr",
     "output_type": "stream",
     "text": [
      "\n"
     ]
    }
   ],
   "source": [
    "post_rank_counts, novel_post_rank_counts, valuable_novel_post_rank_counts = [], [], []\n",
    "NUMBER_OF_EXPERIMENTS = 10\n",
    "weight = 1 / NUMBER_OF_EXPERIMENTS\n",
    "\n",
    "for index in range(NUMBER_OF_EXPERIMENTS):\n",
    "    post_rank_count, novel_post_rank_count, valuable_novel_post_rank_count =\\\n",
    "        calculate_post_rank_distribution(*get_randomized_post_stats(sorted_post_stats))\n",
    "   \n",
    "    post_rank_counts.append(post_rank_count)\n",
    "    novel_post_rank_counts.append(novel_post_rank_count)\n",
    "    valuable_novel_post_rank_counts.append(valuable_novel_post_rank_count)\n",
    "\n",
    "# PERFORM AVERAGING\n",
    "avg_post_rank_count = collections.defaultdict(int)\n",
    "avg_novel_post_rank_count = collections.defaultdict(int)\n",
    "avg_valuable_novel_post_rank_count = {k: collections.defaultdict(int) for k in VALUE_THRESHOLDS}\n",
    "\n",
    "for prc in post_rank_counts:\n",
    "    for k, v in prc.items():\n",
    "        avg_post_rank_count[k] += weight * v\n",
    "\n",
    "for nprc in novel_post_rank_counts:\n",
    "    for k, v in nprc.items():\n",
    "        avg_novel_post_rank_count[k] += weight * v\n",
    "\n",
    "for vnprc in valuable_novel_post_rank_counts:\n",
    "    for threshold in VALUE_THRESHOLDS:\n",
    "        for k, v in vnprc[threshold].items():\n",
    "            avg_valuable_novel_post_rank_count[threshold][k] += weight * v"
   ]
  },
  {
   "cell_type": "code",
   "execution_count": 17,
   "id": "a2d7f9a9-6ff4-4094-b544-f2a48b95ae45",
   "metadata": {},
   "outputs": [],
   "source": [
    "novel_ratio, valuable_novel_ratio =\\\n",
    "    calculate_novel_ratios(avg_post_rank_count, avg_novel_post_rank_count, avg_valuable_novel_post_rank_count)"
   ]
  },
  {
   "cell_type": "code",
   "execution_count": 18,
   "id": "71c45491-23e7-4ee1-9662-0e8e83a5a5fc",
   "metadata": {},
   "outputs": [
    {
     "data": {
      "text/plain": [
       "Text(0, 0.5, 'Probability')"
      ]
     },
     "execution_count": 18,
     "metadata": {},
     "output_type": "execute_result"
    },
    {
     "data": {
      "image/png": "[encoded data removed]",
      "text/plain": [
       "<Figure size 1600x800 with 1 Axes>"
      ]
     },
     "metadata": {},
     "output_type": "display_data"
    }
   ],
   "source": [
    "plt.figure(figsize=(16,8))\n",
    "#plt.plot(sorted(novel_ratio.keys()), [novel_ratio[x] for x in sorted(novel_ratio.keys())], \"b*\", label=\"Novel Ratio\")\n",
    "forms = \"ox^.\"\n",
    "colors =\"rkgm\"\n",
    "for index, value_threshold in enumerate(VALUE_THRESHOLDS):\n",
    "    plt.plot(\n",
    "        sorted(valuable_novel_ratio[value_threshold].keys()),\n",
    "        [valuable_novel_ratio[value_threshold][x] for x in sorted(valuable_novel_ratio[value_threshold].keys())],\n",
    "        f\"{colors[index]}{forms[index]}\", label=f\"Value threshold {value_threshold}\")\n",
    "plt.legend()\n",
    "plt.xlabel(\"Post Rank\")\n",
    "plt.ylabel(\"Probability\")\n",
    "#plt.ylim(0, .20)\n",
    "#plt.semilogx()"
   ]
  },
  {
   "cell_type": "code",
   "execution_count": null,
   "id": "a94d9046-4b56-424e-900d-649db574ac4b",
   "metadata": {},
   "outputs": [],
   "source": []
  }
 ],
 "metadata": {
  "kernelspec": {
   "display_name": "Python 3 (ipykernel)",
   "language": "python",
   "name": "python3"
  },
  "language_info": {
   "codemirror_mode": {
    "name": "ipython",
    "version": 3
   },
   "file_extension": ".py",
   "mimetype": "text/x-python",
   "name": "python",
   "nbconvert_exporter": "python",
   "pygments_lexer": "ipython3",
   "version": "3.10.12"
  }
 },
 "nbformat": 4,
 "nbformat_minor": 5
}
